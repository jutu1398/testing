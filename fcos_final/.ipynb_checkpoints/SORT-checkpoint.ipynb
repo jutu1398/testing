{
 "cells": [
  {
   "cell_type": "code",
   "execution_count": null,
   "metadata": {},
   "outputs": [],
   "source": [
    "from sort import *\n",
    "\n",
    "#create instance of SORT\n",
    "mot_tracker = Sort() \n",
    "\n",
    "# get detections\n",
    "...\n",
    "\n",
    "# update SORT\n",
    "track_bbs_ids = mot_tracker.update(detections)\n",
    "\n",
    "# track_bbs_ids is a np array where each row contains a valid bounding box and track_id (last column)\n",
    "..."
   ]
  },
  {
   "cell_type": "code",
   "execution_count": null,
   "metadata": {},
   "outputs": [],
   "source": [
    "for key in odata.keys():   \n",
    "    arrlist = []\n",
    "    det_img = cv2.imread(os.path.join(img_path, key))\n",
    "    overlay = det_img.copy()\n",
    "    det_result = data[key] \n",
    "    \n",
    "    for info in det_result:\n",
    "        bbox = info['bbox']\n",
    "        labels = info['labels']\n",
    "        scores = info['scores']\n",
    "        templist = bbox+[scores]\n",
    "        \n",
    "        if labels == 1: # label 1 is a person in MS COCO Dataset\n",
    "            arrlist.append(templist)\n",
    "            \n",
    "    track_bbs_ids = mot_tracker.update(np.array(arrlist))\n",
    "    \n",
    "    mot_imgid = key.replace('.jpg','')\n",
    "    newname = save_path + mot_imgid + '_mot.jpg'\n",
    "    print(mot_imgid)\n",
    "    \n",
    "    for j in range(track_bbs_ids.shape[0]):  \n",
    "        ele = track_bbs_ids[j, :]\n",
    "        x = int(ele[0])\n",
    "        y = int(ele[1])\n",
    "        x2 = int(ele[2])\n",
    "        y2 = int(ele[3])\n",
    "        track_label = str(int(ele[4])) \n",
    "        cv2.rectangle(det_img, (x, y), (x2, y2), (0, 255, 255), 4)\n",
    "        cv2.putText(det_img, '#'+track_label, (x+5, y-10), 0,0.6,(0,255,255),thickness=2)\n",
    "        \n",
    "    cv2.imwrite(newname,det_img)"
   ]
  }
 ],
 "metadata": {
  "kernelspec": {
   "display_name": "Python 3",
   "language": "python",
   "name": "python3"
  },
  "language_info": {
   "codemirror_mode": {
    "name": "ipython",
    "version": 3
   },
   "file_extension": ".py",
   "mimetype": "text/x-python",
   "name": "python",
   "nbconvert_exporter": "python",
   "pygments_lexer": "ipython3",
   "version": "3.8.3"
  }
 },
 "nbformat": 4,
 "nbformat_minor": 4
}
